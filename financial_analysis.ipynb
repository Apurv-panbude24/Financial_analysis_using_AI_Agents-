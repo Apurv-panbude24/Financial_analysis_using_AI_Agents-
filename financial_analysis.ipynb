{
 "cells": [
  {
   "cell_type": "code",
   "execution_count": 1,
   "id": "c7921685-c4e7-4897-9bd7-b136bfc9eba1",
   "metadata": {},
   "outputs": [
    {
     "name": "stdout",
     "output_type": "stream",
     "text": [
      "/opt/anaconda3/envs/rag_agent_env/bin/python\n"
     ]
    }
   ],
   "source": [
    "!which python\n"
   ]
  },
  {
   "cell_type": "code",
   "execution_count": 2,
   "id": "cc46be97-3a65-463e-bba4-752153100e28",
   "metadata": {},
   "outputs": [
    {
     "name": "stdout",
     "output_type": "stream",
     "text": [
      "llama-cloud                             0.1.13\n",
      "llama-cloud-services                    0.6.3\n",
      "llama-index                             0.12.20\n",
      "llama-index-agent-openai                0.4.6\n",
      "llama-index-cli                         0.4.0\n",
      "llama-index-core                        0.12.20\n",
      "llama-index-embeddings-openai           0.3.1\n",
      "llama-index-indices-managed-llama-cloud 0.6.8\n",
      "llama-index-llms-openai                 0.3.22\n",
      "llama-index-multi-modal-llms-openai     0.4.3\n",
      "llama-index-program-openai              0.3.1\n",
      "llama-index-question-gen-openai         0.3.0\n",
      "llama-index-readers-file                0.4.5\n",
      "llama-index-readers-llama-parse         0.4.0\n",
      "llama-parse                             0.6.2\n"
     ]
    }
   ],
   "source": [
    "!pip list | grep llama\n"
   ]
  },
  {
   "cell_type": "code",
   "execution_count": 5,
   "id": "b0f500f9-b074-4098-98ac-a68863b85e17",
   "metadata": {},
   "outputs": [],
   "source": [
    "from llama_index.core import VectorStoreIndex, SimpleDirectoryReader, Settings\n",
    "from llama_index.embeddings.openai import OpenAIEmbedding\n",
    "#agentic RAG\n",
    "from llama_index.core.tools import QueryEngineTool\n",
    "from llama_index.agent.openai import OpenAIAgent\n",
    "from llama_index.llms.openai import OpenAI"
   ]
  },
  {
   "cell_type": "code",
   "execution_count": 6,
   "id": "943221e4-1585-46de-8210-00a20c89d788",
   "metadata": {},
   "outputs": [],
   "source": [
    "open_API_key = \"Removed api key\""
   ]
  },
  {
   "cell_type": "code",
   "execution_count": 38,
   "id": "4b66605e-c82e-4ef3-9005-ac49aa60b02e",
   "metadata": {
    "scrolled": true
   },
   "outputs": [
    {
     "name": "stdout",
     "output_type": "stream",
     "text": [
      "Found 10-K document links:\n",
      "Filing Date: 2024-11-01, Link: https://www.sec.gov/Archives/edgar/data/320193/000032019324000123/0000320193-24-000123.htm\n",
      "Filing Date: 2023-11-03, Link: https://www.sec.gov/Archives/edgar/data/320193/000032019323000106/0000320193-23-000106.htm\n",
      "Filing Date: 2022-10-28, Link: https://www.sec.gov/Archives/edgar/data/320193/000032019322000108/0000320193-22-000108.htm\n",
      "Filing Date: 2021-10-29, Link: https://www.sec.gov/Archives/edgar/data/320193/000032019321000105/0000320193-21-000105.htm\n",
      "Filing Date: 2020-10-30, Link: https://www.sec.gov/Archives/edgar/data/320193/000032019320000096/0000320193-20-000096.htm\n",
      "Filing Date: 2019-10-31, Link: https://www.sec.gov/Archives/edgar/data/320193/000032019319000119/0000320193-19-000119.htm\n",
      "Filing Date: 2018-11-05, Link: https://www.sec.gov/Archives/edgar/data/320193/000032019318000145/0000320193-18-000145.htm\n",
      "Filing Date: 2017-11-03, Link: https://www.sec.gov/Archives/edgar/data/320193/000032019317000070/0000320193-17-000070.htm\n",
      "Filing Date: 2016-10-26, Link: https://www.sec.gov/Archives/edgar/data/320193/000162828016020309/0001628280-16-020309.htm\n",
      "Filing Date: 2015-10-28, Link: https://www.sec.gov/Archives/edgar/data/320193/000119312515356351/0001193125-15-356351.htm\n",
      "Filing Date: 2014-10-27, Link: https://www.sec.gov/Archives/edgar/data/320193/000119312514383437/0001193125-14-383437.htm\n"
     ]
    }
   ],
   "source": [
    "import requests\n",
    "\n",
    "# Apple SEC search page for 10-K filings (JSON endpoint)\n",
    "search_url = \"https://data.sec.gov/submissions/CIK0000320193.json\"\n",
    "\n",
    "# Fetch the JSON data\n",
    "response = requests.get(search_url, headers={\"User-Agent\": \"Mozilla/5.0\"})\n",
    "\n",
    "if response.status_code == 200:\n",
    "    # Parse the JSON data\n",
    "    data = response.json()\n",
    "\n",
    "    # Extract 10-K filing links\n",
    "    filings = data.get(\"filings\", {}).get(\"recent\", {})\n",
    "    accession_numbers = filings.get(\"accessionNumber\", [])\n",
    "    filing_types = filings.get(\"form\", [])\n",
    "    filing_dates = filings.get(\"filingDate\", [])\n",
    "\n",
    "    # Base URL for SEC documents\n",
    "    base_url = \"https://www.sec.gov/Archives/edgar/data/320193\"\n",
    "\n",
    "    # Find and print 10-K document links\n",
    "    print(\"Found 10-K document links:\")\n",
    "    for accession_number, filing_type, filing_date in zip(accession_numbers, filing_types, filing_dates):\n",
    "        if filing_type == \"10-K\":\n",
    "            # Construct the document URL\n",
    "            doc_url = f\"{base_url}/{accession_number.replace('-', '')}/{accession_number}.htm\"\n",
    "            print(f\"Filing Date: {filing_date}, Link: {doc_url}\")\n",
    "else:\n",
    "    print(\"Failed to fetch SEC data.\")"
   ]
  },
  {
   "cell_type": "code",
   "execution_count": 39,
   "id": "8341144f-4167-4908-8e79-d25a1fa9a7a8",
   "metadata": {},
   "outputs": [
    {
     "name": "stdout",
     "output_type": "stream",
     "text": [
      "Downloaded 10-K document successfully!\n"
     ]
    }
   ],
   "source": [
    "ten_k_url = \"https://data.sec.gov/submissions/CIK0000320193.json\"\n",
    "\n",
    "# Fetching the 10-K document\n",
    "response = requests.get(ten_k_url, headers={\"User-Agent\": \"Mozilla/5.0\"})\n",
    "\n",
    "if response.status_code == 200:\n",
    "    # Saving it locally\n",
    "    with open(\"apple_10k.html\", \"w\", encoding=\"utf-8\") as file:\n",
    "        file.write(response.text)\n",
    "    print(\"Downloaded 10-K document successfully!\")\n",
    "else:\n",
    "    print(\"Failed to download the document.\")"
   ]
  },
  {
   "cell_type": "code",
   "execution_count": 41,
   "id": "a58b965d-1621-45e6-aead-733c33444494",
   "metadata": {},
   "outputs": [
    {
     "name": "stdout",
     "output_type": "stream",
     "text": [
      "📂 File downloaded at: /Users/apurvpanbude/apple_10k.html\n"
     ]
    }
   ],
   "source": [
    "import os\n",
    "\n",
    "# Get the current working directory\n",
    "cwd = os.getcwd()\n",
    "\n",
    "# File path\n",
    "file_path = os.path.join(cwd, \"apple_10k.html\")\n",
    "\n",
    "print(f\"📂 File downloaded at: {file_path}\")\n"
   ]
  },
  {
   "cell_type": "code",
   "execution_count": 33,
   "id": "5e11fbf2-9245-41ba-b310-e328d3b42001",
   "metadata": {},
   "outputs": [],
   "source": [
    "#configuration inputs \n",
    "uploaded_files = \"/Users/apurvpanbude/apple_10k.html\"\n"
   ]
  },
  {
   "cell_type": "code",
   "execution_count": 23,
   "id": "e88157fe-1626-43b1-bff3-5c9564db0d24",
   "metadata": {},
   "outputs": [],
   "source": [
    "# load documents and create index\n",
    "documents =[]\n",
    "for file_path in uploaded_files:\n",
    "    docs = SimpleDirectoryReader(input_files=[\"/Users/apurvpanbude/apple_10k.html\"]).load_data()\n",
    "    documents.extend(docs)\n",
    "\n",
    "#set up OpenAi embedding model \n",
    "embed_model = OpenAIEmbedding(model='text-embedding-3-small',api_key=open_API_key)#changed embedding model\n",
    "Settings.embed_model = embed_model\n",
    "\n",
    "# Create the vector store index \n",
    "index = VectorStoreIndex.from_documents(documents)\n",
    "## check for different Api or check how to use this key for the future progress right now using free OPEn ai key s"
   ]
  },
  {
   "cell_type": "code",
   "execution_count": 26,
   "id": "22aa8e4b-06a0-45d6-8054-5c6c1a4cd556",
   "metadata": {},
   "outputs": [
    {
     "name": "stdout",
     "output_type": "stream",
     "text": [
      "Added user message to memory: \n",
      "    You are a financial risk analyst. Your task is to analyze a 10-K financial document to identify risks and assign a risk score (1-5, with 5 being the highest risk).\n",
      "    Use the 'document_retrieval_tool' to retrieve information. For example, you might query:\n",
      "    - \"What company are in these document for and what is the date of the filing?\"\n",
      "    - \"List all risk factors in the document.\"\n",
      "    - \"Summarize key financial, legal, and compliance risks in the document.\"\n",
      "    Summarize the retrieved information and assign a risk score based on the severity and frequency of the risks.\n",
      "\n",
      "=== Calling Function ===\n",
      "Calling function: document_retrieval_tool with args: {\"input\":\"What company are in these document for and what is the date of the filing?\"}\n",
      "Got output: The documents pertain to Apple Inc., and the filings range from January 26, 1994, to May 29, 2014.\n",
      "========================\n",
      "\n",
      "=== Calling Function ===\n",
      "Calling function: document_retrieval_tool with args: {\"input\": \"List all risk factors in the document.\"}\n",
      "Got output: The document contains various risk factors that are typically outlined in a specific section. To find the complete list, please refer to the relevant section of the document where risk factors are discussed.\n",
      "========================\n",
      "\n",
      "=== Calling Function ===\n",
      "Calling function: document_retrieval_tool with args: {\"input\": \"Summarize key financial, legal, and compliance risks in the document.\"}\n",
      "Got output: The document highlights several key financial, legal, and compliance risks. Financial risks may arise from the various filings and reports, such as 10-Ks and 10-Qs, which could indicate potential volatility in financial performance. Legal risks are present due to the multiple references to regulatory filings like SC 13G/A and DEF 14A, suggesting scrutiny from regulatory bodies. Compliance risks are indicated by the frequent mentions of XBRL and other compliance-related forms, which may reflect the need for adherence to complex reporting standards and regulations. Overall, the document suggests a landscape where financial performance, regulatory compliance, and legal obligations are critical areas of risk.\n",
      "========================\n",
      "\n"
     ]
    }
   ],
   "source": [
    "#Initialize LLM - use OpenAi and gpt 40-mini \n",
    "llm = OpenAI(api_key=open_API_key,\n",
    "             model='gpt-4o-mini')\n",
    "Settings.llm = llm\n",
    "\n",
    "# Define Tool\n",
    "query_engine = index.as_query_engine()\n",
    "query_tool = QueryEngineTool.from_defaults(\n",
    "    query_engine=query_engine,\n",
    "    name=\"document_retrieval_tool\",\n",
    "    description=\"Tool to retrieve relevant information from document context.\"\n",
    ")\n",
    "\n",
    "# Agent initialization\n",
    "agent = OpenAIAgent.from_tools(\n",
    "    tools=[query_tool],\n",
    "    llm=llm,\n",
    "    verbose=True,\n",
    "    system_prompt=\"\"\"\n",
    "        You are a financial risk analyst. Your task is to analyze 10-K financial documents to identify risks and assign a risk score (1-5, with 5 being the highest risk).\n",
    "        Steps:\n",
    "        1. Use the 'document_retrieval_tool' to extract key risk-related information from the 10-K document. This is the only way to access the data.\n",
    "        2. Summarize the risks and assign a risk score based on the severity and frequency of identified risks.\n",
    "        3. Provide a detailed explanation for the risk score.\n",
    "        4. Please format the risk score exactly like \"Overall Risk Score:***[score goes here]***\"\n",
    "    \"\"\"\n",
    ")\n",
    "# Run the agent with the prompt\n",
    "response = agent.chat(\"\"\"\n",
    "    You are a financial risk analyst. Your task is to analyze a 10-K financial document to identify risks and assign a risk score (1-5, with 5 being the highest risk).\n",
    "    Use the 'document_retrieval_tool' to retrieve information. For example, you might query:\n",
    "    - \"What company are in these document for and what is the date of the filing?\"\n",
    "    - \"List all risk factors in the document.\"\n",
    "    - \"Summarize key financial, legal, and compliance risks in the document.\"\n",
    "    Summarize the retrieved information and assign a risk score based on the severity and frequency of the risks.\n",
    "\"\"\")\n",
    "# Get the response\n",
    "agent_output = response.response"
   ]
  },
  {
   "cell_type": "code",
   "execution_count": 28,
   "id": "5d6121e1-6eac-494e-a3a4-50453bc53d53",
   "metadata": {},
   "outputs": [
    {
     "name": "stdout",
     "output_type": "stream",
     "text": [
      "### Summary of Risks Identified in the 10-K Document for Apple Inc.\n",
      "\n",
      "1. **Financial Risks**: The document indicates potential volatility in financial performance, which could stem from various factors including market conditions, competition, and changes in consumer preferences. The reliance on key products and services also poses a risk if there are shifts in demand.\n",
      "\n",
      "2. **Legal Risks**: There are multiple references to regulatory filings, suggesting that Apple Inc. is under scrutiny from regulatory bodies. This could lead to legal challenges or penalties if compliance is not maintained.\n",
      "\n",
      "3. **Compliance Risks**: The frequent mentions of XBRL and other compliance-related forms indicate a complex regulatory environment. Non-compliance with these standards could result in financial penalties or reputational damage.\n",
      "\n",
      "### Risk Score Assignment\n",
      "\n",
      "Based on the severity and frequency of the identified risks, I assign the following risk score:\n",
      "\n",
      "- **Severity**: The financial risks are significant due to their potential impact on revenue and profitability. Legal and compliance risks are also serious, given the regulatory scrutiny and the complexity of compliance requirements.\n",
      "- **Frequency**: The document suggests that these risks are ongoing and require continuous management and oversight.\n",
      "\n",
      "Considering these factors, the overall risk score is:\n",
      "\n",
      "**Overall Risk Score:***4*****\n",
      "\n",
      "### Explanation for the Risk Score\n",
      "\n",
      "The score of 4 reflects a high level of risk primarily due to the combination of financial volatility, legal scrutiny, and compliance complexities. While these risks are manageable with appropriate strategies, their potential impact on the company's operations and reputation warrants a score that indicates significant attention is needed.\n"
     ]
    }
   ],
   "source": [
    "print(agent_output)"
   ]
  },
  {
   "cell_type": "code",
   "execution_count": null,
   "id": "88f9509e-2fb5-432a-a2e3-98a26d591ad3",
   "metadata": {},
   "outputs": [],
   "source": []
  }
 ],
 "metadata": {
  "kernelspec": {
   "display_name": "Python (rag_agent_env)",
   "language": "python",
   "name": "rag_agent_env"
  },
  "language_info": {
   "codemirror_mode": {
    "name": "ipython",
    "version": 3
   },
   "file_extension": ".py",
   "mimetype": "text/x-python",
   "name": "python",
   "nbconvert_exporter": "python",
   "pygments_lexer": "ipython3",
   "version": "3.12.8"
  }
 },
 "nbformat": 4,
 "nbformat_minor": 5
}
